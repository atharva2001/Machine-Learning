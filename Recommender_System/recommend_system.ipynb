{
 "cells": [
  {
   "cell_type": "code",
   "execution_count": 49,
   "id": "12329911",
   "metadata": {},
   "outputs": [],
   "source": [
    "# !pip install pandas\n",
    "# !pip install scikit-learn"
   ]
  },
  {
   "cell_type": "code",
   "execution_count": null,
   "id": "b75889bd",
   "metadata": {},
   "outputs": [],
   "source": [
    "import random\n",
    "import csv\n",
    "\n",
    "# Skills pool\n",
    "skills_list = [\n",
    "    \"Python\", \"Java\", \"C++\", \"JavaScript\", \"TypeScript\", \"React\", \"Angular\", \"Node.js\",\n",
    "    \"Spring Boot\", \"Django\", \"FastAPI\", \"SQL\", \"MongoDB\", \"AWS\", \"Docker\", \"Kubernetes\",\n",
    "    \"Machine Learning\", \"Deep Learning\", \"NLP\", \"Data Engineering\"\n",
    "]\n",
    "\n",
    "num_users = 100\n",
    "num_jobs = 250\n",
    "applications_per_user = (1, 4)  # min, max number of jobs a user can apply to\n",
    "\n",
    "# ----- Generate jobs.csv -----\n",
    "with open(\"jobs.csv\", \"w\", newline=\"\") as f:\n",
    "    writer = csv.writer(f)\n",
    "    writer.writerow([\"job_id\", \"skills\", \"description\", \"num_of_applies\"])\n",
    "    \n",
    "    for job_id in range(101, 101 + num_jobs):\n",
    "        job_skills = random.sample(skills_list, random.randint(3, 6))\n",
    "        desc = f\"{random.choice(job_skills)} Developer\"\n",
    "        num_applies = random.randint(5, 50)\n",
    "        writer.writerow([job_id, \",\".join(job_skills), desc, num_applies])\n",
    "\n",
    "# ----- Generate users.csv -----\n",
    "with open(\"users.csv\", \"w\", newline=\"\") as f:\n",
    "    writer = csv.writer(f)\n",
    "    writer.writerow([\"user_id\", \"skills\"])\n",
    "    \n",
    "    for user_id in range(1, num_users + 1):\n",
    "        user_skills = random.sample(skills_list, random.randint(3, 6))\n",
    "        writer.writerow([user_id, \",\".join(user_skills)])\n",
    "\n",
    "# ----- Generate applications.csv -----\n",
    "with open(\"applications.csv\", \"w\", newline=\"\") as f:\n",
    "    writer = csv.writer(f)\n",
    "    writer.writerow([\"user_id\", \"job_id\"])\n",
    "    \n",
    "    for user_id in range(1, num_users + 1):\n",
    "        applied_jobs = random.sample(range(101, 101 + num_jobs), random.randint(*applications_per_user))\n",
    "        for job_id in applied_jobs:\n",
    "            writer.writerow([user_id, job_id])\n"
   ]
  },
  {
   "cell_type": "code",
   "execution_count": null,
   "id": "6d783097",
   "metadata": {},
   "outputs": [],
   "source": [
    "import pandas as pd\n"
   ]
  },
  {
   "cell_type": "code",
   "execution_count": 52,
   "id": "5d8427e9",
   "metadata": {},
   "outputs": [],
   "source": [
    "jobs = pd.read_csv(\"jobs.csv\")\n",
    "users = pd.read_csv(\"users.csv\")\n",
    "applies = pd.read_csv(\"applications.csv\")"
   ]
  },
  {
   "cell_type": "code",
   "execution_count": 53,
   "id": "0f7a7766",
   "metadata": {},
   "outputs": [
    {
     "data": {
      "text/html": [
       "<div>\n",
       "<style scoped>\n",
       "    .dataframe tbody tr th:only-of-type {\n",
       "        vertical-align: middle;\n",
       "    }\n",
       "\n",
       "    .dataframe tbody tr th {\n",
       "        vertical-align: top;\n",
       "    }\n",
       "\n",
       "    .dataframe thead th {\n",
       "        text-align: right;\n",
       "    }\n",
       "</style>\n",
       "<table border=\"1\" class=\"dataframe\">\n",
       "  <thead>\n",
       "    <tr style=\"text-align: right;\">\n",
       "      <th></th>\n",
       "      <th>job_id</th>\n",
       "      <th>skills</th>\n",
       "      <th>description</th>\n",
       "      <th>num_of_applies</th>\n",
       "    </tr>\n",
       "  </thead>\n",
       "  <tbody>\n",
       "    <tr>\n",
       "      <th>0</th>\n",
       "      <td>101</td>\n",
       "      <td>Django,Angular,TypeScript,Docker,SQL</td>\n",
       "      <td>Django Developer</td>\n",
       "      <td>25</td>\n",
       "    </tr>\n",
       "    <tr>\n",
       "      <th>1</th>\n",
       "      <td>102</td>\n",
       "      <td>Node.js,TypeScript,C++,Java</td>\n",
       "      <td>Java Developer</td>\n",
       "      <td>8</td>\n",
       "    </tr>\n",
       "    <tr>\n",
       "      <th>2</th>\n",
       "      <td>103</td>\n",
       "      <td>FastAPI,Python,Deep Learning,Docker</td>\n",
       "      <td>Docker Developer</td>\n",
       "      <td>46</td>\n",
       "    </tr>\n",
       "    <tr>\n",
       "      <th>3</th>\n",
       "      <td>104</td>\n",
       "      <td>Deep Learning,Data Engineering,SQL,Angular,Java</td>\n",
       "      <td>Angular Developer</td>\n",
       "      <td>20</td>\n",
       "    </tr>\n",
       "    <tr>\n",
       "      <th>4</th>\n",
       "      <td>105</td>\n",
       "      <td>Python,Django,FastAPI</td>\n",
       "      <td>Python Developer</td>\n",
       "      <td>13</td>\n",
       "    </tr>\n",
       "  </tbody>\n",
       "</table>\n",
       "</div>"
      ],
      "text/plain": [
       "   job_id                                           skills        description  \\\n",
       "0     101             Django,Angular,TypeScript,Docker,SQL   Django Developer   \n",
       "1     102                      Node.js,TypeScript,C++,Java     Java Developer   \n",
       "2     103              FastAPI,Python,Deep Learning,Docker   Docker Developer   \n",
       "3     104  Deep Learning,Data Engineering,SQL,Angular,Java  Angular Developer   \n",
       "4     105                            Python,Django,FastAPI   Python Developer   \n",
       "\n",
       "   num_of_applies  \n",
       "0              25  \n",
       "1               8  \n",
       "2              46  \n",
       "3              20  \n",
       "4              13  "
      ]
     },
     "execution_count": 53,
     "metadata": {},
     "output_type": "execute_result"
    }
   ],
   "source": [
    "jobs.head()"
   ]
  },
  {
   "cell_type": "code",
   "execution_count": 54,
   "id": "a6846142",
   "metadata": {},
   "outputs": [
    {
     "data": {
      "text/html": [
       "<div>\n",
       "<style scoped>\n",
       "    .dataframe tbody tr th:only-of-type {\n",
       "        vertical-align: middle;\n",
       "    }\n",
       "\n",
       "    .dataframe tbody tr th {\n",
       "        vertical-align: top;\n",
       "    }\n",
       "\n",
       "    .dataframe thead th {\n",
       "        text-align: right;\n",
       "    }\n",
       "</style>\n",
       "<table border=\"1\" class=\"dataframe\">\n",
       "  <thead>\n",
       "    <tr style=\"text-align: right;\">\n",
       "      <th></th>\n",
       "      <th>user_id</th>\n",
       "      <th>skills</th>\n",
       "    </tr>\n",
       "  </thead>\n",
       "  <tbody>\n",
       "    <tr>\n",
       "      <th>0</th>\n",
       "      <td>1</td>\n",
       "      <td>Java,React,Spring Boot,MongoDB,Machine Learnin...</td>\n",
       "    </tr>\n",
       "    <tr>\n",
       "      <th>1</th>\n",
       "      <td>2</td>\n",
       "      <td>Machine Learning,FastAPI,Python,NLP,Kubernetes...</td>\n",
       "    </tr>\n",
       "    <tr>\n",
       "      <th>2</th>\n",
       "      <td>3</td>\n",
       "      <td>Docker,C++,NLP,FastAPI,Python</td>\n",
       "    </tr>\n",
       "    <tr>\n",
       "      <th>3</th>\n",
       "      <td>4</td>\n",
       "      <td>FastAPI,Angular,JavaScript,Node.js</td>\n",
       "    </tr>\n",
       "    <tr>\n",
       "      <th>4</th>\n",
       "      <td>5</td>\n",
       "      <td>Docker,SQL,MongoDB,React</td>\n",
       "    </tr>\n",
       "  </tbody>\n",
       "</table>\n",
       "</div>"
      ],
      "text/plain": [
       "   user_id                                             skills\n",
       "0        1  Java,React,Spring Boot,MongoDB,Machine Learnin...\n",
       "1        2  Machine Learning,FastAPI,Python,NLP,Kubernetes...\n",
       "2        3                      Docker,C++,NLP,FastAPI,Python\n",
       "3        4                 FastAPI,Angular,JavaScript,Node.js\n",
       "4        5                           Docker,SQL,MongoDB,React"
      ]
     },
     "execution_count": 54,
     "metadata": {},
     "output_type": "execute_result"
    }
   ],
   "source": [
    "users.head()"
   ]
  },
  {
   "cell_type": "code",
   "execution_count": 55,
   "id": "3611ba67",
   "metadata": {},
   "outputs": [
    {
     "data": {
      "text/html": [
       "<div>\n",
       "<style scoped>\n",
       "    .dataframe tbody tr th:only-of-type {\n",
       "        vertical-align: middle;\n",
       "    }\n",
       "\n",
       "    .dataframe tbody tr th {\n",
       "        vertical-align: top;\n",
       "    }\n",
       "\n",
       "    .dataframe thead th {\n",
       "        text-align: right;\n",
       "    }\n",
       "</style>\n",
       "<table border=\"1\" class=\"dataframe\">\n",
       "  <thead>\n",
       "    <tr style=\"text-align: right;\">\n",
       "      <th></th>\n",
       "      <th>user_id</th>\n",
       "      <th>job_id</th>\n",
       "    </tr>\n",
       "  </thead>\n",
       "  <tbody>\n",
       "    <tr>\n",
       "      <th>0</th>\n",
       "      <td>1</td>\n",
       "      <td>305</td>\n",
       "    </tr>\n",
       "    <tr>\n",
       "      <th>1</th>\n",
       "      <td>1</td>\n",
       "      <td>123</td>\n",
       "    </tr>\n",
       "    <tr>\n",
       "      <th>2</th>\n",
       "      <td>1</td>\n",
       "      <td>118</td>\n",
       "    </tr>\n",
       "    <tr>\n",
       "      <th>3</th>\n",
       "      <td>1</td>\n",
       "      <td>103</td>\n",
       "    </tr>\n",
       "    <tr>\n",
       "      <th>4</th>\n",
       "      <td>2</td>\n",
       "      <td>120</td>\n",
       "    </tr>\n",
       "  </tbody>\n",
       "</table>\n",
       "</div>"
      ],
      "text/plain": [
       "   user_id  job_id\n",
       "0        1     305\n",
       "1        1     123\n",
       "2        1     118\n",
       "3        1     103\n",
       "4        2     120"
      ]
     },
     "execution_count": 55,
     "metadata": {},
     "output_type": "execute_result"
    }
   ],
   "source": [
    "applies.head()"
   ]
  },
  {
   "cell_type": "code",
   "execution_count": 56,
   "id": "b7591b46",
   "metadata": {},
   "outputs": [
    {
     "name": "stdout",
     "output_type": "stream",
     "text": [
      "Number of users: 100\n",
      "Number of jobs: 250\n",
      "Total number of job applications: 6898\n",
      "Total number of users who applied for jobs: 259\n",
      "Avergae number of applications per job: 27.59\n",
      "Average number of applications per user: 2.59\n"
     ]
    }
   ],
   "source": [
    "n_users = len(users)\n",
    "n_jobs = len(jobs)\n",
    "n_applies = jobs['num_of_applies'].sum()\n",
    "users_applied = applies['user_id'].count()\n",
    "\n",
    "print(f\"Number of users: {n_users}\")\n",
    "print(f\"Number of jobs: {n_jobs}\")\n",
    "print(f\"Total number of job applications: {n_applies}\")\n",
    "print(f\"Total number of users who applied for jobs: {users_applied}\")\n",
    "print(f\"Avergae number of applications per job: {n_applies / n_jobs:.2f}\")\n",
    "print(f\"Average number of applications per user: {users_applied / n_users:.2f}\")"
   ]
  },
  {
   "cell_type": "code",
   "execution_count": 57,
   "id": "9c5ddf96",
   "metadata": {},
   "outputs": [
    {
     "data": {
      "text/html": [
       "<div>\n",
       "<style scoped>\n",
       "    .dataframe tbody tr th:only-of-type {\n",
       "        vertical-align: middle;\n",
       "    }\n",
       "\n",
       "    .dataframe tbody tr th {\n",
       "        vertical-align: top;\n",
       "    }\n",
       "\n",
       "    .dataframe thead th {\n",
       "        text-align: right;\n",
       "    }\n",
       "</style>\n",
       "<table border=\"1\" class=\"dataframe\">\n",
       "  <thead>\n",
       "    <tr style=\"text-align: right;\">\n",
       "      <th></th>\n",
       "      <th>user_id</th>\n",
       "      <th>num_of_applies</th>\n",
       "    </tr>\n",
       "  </thead>\n",
       "  <tbody>\n",
       "    <tr>\n",
       "      <th>0</th>\n",
       "      <td>1</td>\n",
       "      <td>4</td>\n",
       "    </tr>\n",
       "    <tr>\n",
       "      <th>1</th>\n",
       "      <td>2</td>\n",
       "      <td>3</td>\n",
       "    </tr>\n",
       "    <tr>\n",
       "      <th>2</th>\n",
       "      <td>3</td>\n",
       "      <td>1</td>\n",
       "    </tr>\n",
       "    <tr>\n",
       "      <th>3</th>\n",
       "      <td>4</td>\n",
       "      <td>2</td>\n",
       "    </tr>\n",
       "    <tr>\n",
       "      <th>4</th>\n",
       "      <td>5</td>\n",
       "      <td>1</td>\n",
       "    </tr>\n",
       "  </tbody>\n",
       "</table>\n",
       "</div>"
      ],
      "text/plain": [
       "   user_id  num_of_applies\n",
       "0        1               4\n",
       "1        2               3\n",
       "2        3               1\n",
       "3        4               2\n",
       "4        5               1"
      ]
     },
     "execution_count": 57,
     "metadata": {},
     "output_type": "execute_result"
    }
   ],
   "source": [
    "user_freq = applies[[\"user_id\", \"job_id\"]].groupby(\"user_id\").count().reset_index()\n",
    "user_freq.columns = [\"user_id\", \"num_of_applies\"]\n",
    "user_freq.head()"
   ]
  },
  {
   "cell_type": "code",
   "execution_count": 58,
   "id": "9c9599e1",
   "metadata": {},
   "outputs": [],
   "source": [
    "from scipy.sparse import csr_matrix\n",
    "import numpy as np\n",
    "\n",
    "def create_matrix(df):\n",
    "    \n",
    "    N = len(df['user_id'].unique())\n",
    "    M = len(df['job_id'].unique())\n",
    "\n",
    "    user_mapper = dict(zip(np.unique(df[\"user_id\"]), list(range(N))))\n",
    "    job_mapper = dict(zip(np.unique(df[\"job_id\"]), list(range(M))))\n",
    "\n",
    "    user_inv_mapper = dict(zip(list(range(N)), np.unique(df[\"user_id\"])))\n",
    "    job_inv_mapper = dict(zip(list(range(M)), np.unique(df[\"job_id\"])))\n",
    "\n",
    "    user_index = [user_mapper[i] for i in df['user_id']]\n",
    "    job_index = [job_mapper[i] for i in df['job_id']]\n",
    "\n",
    "    X = csr_matrix((np.ones(len(user_index)), (user_index, job_index)), shape=(N, M))\n",
    "\n",
    "    return X, user_mapper, job_mapper, user_inv_mapper, job_inv_mapper\n",
    "\n",
    "X, user_mapper, job_mapper, user_inv_mapper, job_inv_mapper = create_matrix(applies)"
   ]
  },
  {
   "cell_type": "code",
   "execution_count": 59,
   "id": "a6ecbbc9",
   "metadata": {},
   "outputs": [],
   "source": [
    "from sklearn.neighbors import NearestNeighbors\n",
    "\n",
    "def find_similar_jobs(job_id, X, k, job_mapper, job_inv_mapper):\n",
    "    model = NearestNeighbors(metric='cosine', algorithm='brute')\n",
    "    model.fit(X.T)\n",
    "\n",
    "    job_index = job_mapper[job_id]\n",
    "    distances, indices = model.kneighbors(X.T[job_index], n_neighbors=k+1)\n",
    "\n",
    "    similar_jobs = []\n",
    "    for i in range(1, len(distances.flatten())):\n",
    "        similar_jobs.append((job_inv_mapper[indices.flatten()[i]], distances.flatten()[i]))\n",
    "    \n",
    "    return similar_jobs"
   ]
  },
  {
   "cell_type": "code",
   "execution_count": 60,
   "id": "c7959d4d",
   "metadata": {},
   "outputs": [],
   "source": [
    "def recommend_jobs(user_id, X, user_mapper, job_mapper, job_inv_mapper, n_recommendations=5):\n",
    "    if user_id not in user_mapper:\n",
    "        print(f\"User ID {user_id} not found.\")\n",
    "        return []\n",
    "\n",
    "    user_index = user_mapper[user_id]\n",
    "    user_applied_jobs = X[user_index].nonzero()[1]\n",
    "\n",
    "    all_recommendations = {}\n",
    "    for job_index in user_applied_jobs:\n",
    "        job_id = job_inv_mapper[job_index]\n",
    "        similar_jobs = find_similar_jobs(job_id, X, k=n_recommendations, job_mapper=job_mapper, job_inv_mapper=job_inv_mapper)\n",
    "        \n",
    "        for sim_job_id, score in similar_jobs:\n",
    "            if sim_job_id not in user_applied_jobs and sim_job_id not in all_recommendations:\n",
    "                all_recommendations[sim_job_id] = score\n",
    "\n",
    "    sorted_recommendations = sorted(all_recommendations.items(), key=lambda x: x[1])[:n_recommendations]\n",
    "    \n",
    "    return sorted_recommendations"
   ]
  },
  {
   "cell_type": "code",
   "execution_count": 61,
   "id": "e042bc74",
   "metadata": {},
   "outputs": [],
   "source": [
    "user_id = 3"
   ]
  },
  {
   "cell_type": "code",
   "execution_count": 62,
   "id": "930f4e25",
   "metadata": {},
   "outputs": [
    {
     "name": "stdout",
     "output_type": "stream",
     "text": [
      "[['Java,Node.js,TypeScript,C++,Docker']]\n"
     ]
    }
   ],
   "source": [
    "for val in applies[applies['user_id'] == user_id][\"job_id\"].values:\n",
    "    print(jobs[jobs['job_id'] == val][['skills']].values)"
   ]
  },
  {
   "cell_type": "code",
   "execution_count": 63,
   "id": "bd49ae5b",
   "metadata": {},
   "outputs": [
    {
     "name": "stdout",
     "output_type": "stream",
     "text": [
      "Recommendations for User ID 3:\n",
      "Job ID: 102, Skills: Node.js,TypeScript,C++,Java, Description: Java Developer, Similarity Score: 1.0000\n",
      "Job ID: 104, Skills: Deep Learning,Data Engineering,SQL,Angular,Java, Description: Angular Developer, Similarity Score: 1.0000\n",
      "Job ID: 103, Skills: FastAPI,Python,Deep Learning,Docker, Description: Docker Developer, Similarity Score: 1.0000\n"
     ]
    }
   ],
   "source": [
    "\n",
    "sorted_recommendations = recommend_jobs(user_id, X, user_mapper, job_mapper, job_inv_mapper, n_recommendations=3)\n",
    "print(f\"Recommendations for User ID {user_id}:\")\n",
    "for job_id, score in sorted_recommendations:\n",
    "    job_info = jobs[jobs['job_id'] == job_id].iloc[0]\n",
    "    print(f\"Job ID: {job_id}, Skills: {job_info['skills']}, Description: {job_info['description']}, Similarity Score: {score:.4f}\")"
   ]
  },
  {
   "cell_type": "code",
   "execution_count": 64,
   "id": "cc661170",
   "metadata": {},
   "outputs": [
    {
     "data": {
      "text/html": [
       "<div>\n",
       "<style scoped>\n",
       "    .dataframe tbody tr th:only-of-type {\n",
       "        vertical-align: middle;\n",
       "    }\n",
       "\n",
       "    .dataframe tbody tr th {\n",
       "        vertical-align: top;\n",
       "    }\n",
       "\n",
       "    .dataframe thead th {\n",
       "        text-align: right;\n",
       "    }\n",
       "</style>\n",
       "<table border=\"1\" class=\"dataframe\">\n",
       "  <thead>\n",
       "    <tr style=\"text-align: right;\">\n",
       "      <th></th>\n",
       "      <th>job_id</th>\n",
       "      <th>skills</th>\n",
       "      <th>description</th>\n",
       "      <th>num_of_applies</th>\n",
       "    </tr>\n",
       "  </thead>\n",
       "  <tbody>\n",
       "    <tr>\n",
       "      <th>0</th>\n",
       "      <td>101</td>\n",
       "      <td>Django,Angular,TypeScript,Docker,SQL</td>\n",
       "      <td>Django Developer</td>\n",
       "      <td>25</td>\n",
       "    </tr>\n",
       "    <tr>\n",
       "      <th>1</th>\n",
       "      <td>102</td>\n",
       "      <td>Node.js,TypeScript,C++,Java</td>\n",
       "      <td>Java Developer</td>\n",
       "      <td>8</td>\n",
       "    </tr>\n",
       "    <tr>\n",
       "      <th>2</th>\n",
       "      <td>103</td>\n",
       "      <td>FastAPI,Python,Deep Learning,Docker</td>\n",
       "      <td>Docker Developer</td>\n",
       "      <td>46</td>\n",
       "    </tr>\n",
       "    <tr>\n",
       "      <th>3</th>\n",
       "      <td>104</td>\n",
       "      <td>Deep Learning,Data Engineering,SQL,Angular,Java</td>\n",
       "      <td>Angular Developer</td>\n",
       "      <td>20</td>\n",
       "    </tr>\n",
       "    <tr>\n",
       "      <th>4</th>\n",
       "      <td>105</td>\n",
       "      <td>Python,Django,FastAPI</td>\n",
       "      <td>Python Developer</td>\n",
       "      <td>13</td>\n",
       "    </tr>\n",
       "  </tbody>\n",
       "</table>\n",
       "</div>"
      ],
      "text/plain": [
       "   job_id                                           skills        description  \\\n",
       "0     101             Django,Angular,TypeScript,Docker,SQL   Django Developer   \n",
       "1     102                      Node.js,TypeScript,C++,Java     Java Developer   \n",
       "2     103              FastAPI,Python,Deep Learning,Docker   Docker Developer   \n",
       "3     104  Deep Learning,Data Engineering,SQL,Angular,Java  Angular Developer   \n",
       "4     105                            Python,Django,FastAPI   Python Developer   \n",
       "\n",
       "   num_of_applies  \n",
       "0              25  \n",
       "1               8  \n",
       "2              46  \n",
       "3              20  \n",
       "4              13  "
      ]
     },
     "execution_count": 64,
     "metadata": {},
     "output_type": "execute_result"
    }
   ],
   "source": [
    "jobs.head()"
   ]
  },
  {
   "cell_type": "code",
   "execution_count": 65,
   "id": "d4c3cf71",
   "metadata": {},
   "outputs": [
    {
     "data": {
      "text/html": [
       "<div>\n",
       "<style scoped>\n",
       "    .dataframe tbody tr th:only-of-type {\n",
       "        vertical-align: middle;\n",
       "    }\n",
       "\n",
       "    .dataframe tbody tr th {\n",
       "        vertical-align: top;\n",
       "    }\n",
       "\n",
       "    .dataframe thead th {\n",
       "        text-align: right;\n",
       "    }\n",
       "</style>\n",
       "<table border=\"1\" class=\"dataframe\">\n",
       "  <thead>\n",
       "    <tr style=\"text-align: right;\">\n",
       "      <th></th>\n",
       "      <th>user_id</th>\n",
       "      <th>skills</th>\n",
       "    </tr>\n",
       "  </thead>\n",
       "  <tbody>\n",
       "    <tr>\n",
       "      <th>0</th>\n",
       "      <td>1</td>\n",
       "      <td>Java,React,Spring Boot,MongoDB,Machine Learnin...</td>\n",
       "    </tr>\n",
       "    <tr>\n",
       "      <th>1</th>\n",
       "      <td>2</td>\n",
       "      <td>Machine Learning,FastAPI,Python,NLP,Kubernetes...</td>\n",
       "    </tr>\n",
       "    <tr>\n",
       "      <th>2</th>\n",
       "      <td>3</td>\n",
       "      <td>Docker,C++,NLP,FastAPI,Python</td>\n",
       "    </tr>\n",
       "    <tr>\n",
       "      <th>3</th>\n",
       "      <td>4</td>\n",
       "      <td>FastAPI,Angular,JavaScript,Node.js</td>\n",
       "    </tr>\n",
       "    <tr>\n",
       "      <th>4</th>\n",
       "      <td>5</td>\n",
       "      <td>Docker,SQL,MongoDB,React</td>\n",
       "    </tr>\n",
       "  </tbody>\n",
       "</table>\n",
       "</div>"
      ],
      "text/plain": [
       "   user_id                                             skills\n",
       "0        1  Java,React,Spring Boot,MongoDB,Machine Learnin...\n",
       "1        2  Machine Learning,FastAPI,Python,NLP,Kubernetes...\n",
       "2        3                      Docker,C++,NLP,FastAPI,Python\n",
       "3        4                 FastAPI,Angular,JavaScript,Node.js\n",
       "4        5                           Docker,SQL,MongoDB,React"
      ]
     },
     "execution_count": 65,
     "metadata": {},
     "output_type": "execute_result"
    }
   ],
   "source": [
    "users.head()"
   ]
  },
  {
   "cell_type": "code",
   "execution_count": 66,
   "id": "e7a03a81",
   "metadata": {},
   "outputs": [
    {
     "data": {
      "text/plain": [
       "0               Django,Angular,TypeScript,Docker,SQL\n",
       "1                        Node.js,TypeScript,C++,Java\n",
       "2                FastAPI,Python,Deep Learning,Docker\n",
       "3    Deep Learning,Data Engineering,SQL,Angular,Java\n",
       "4                              Python,Django,FastAPI\n",
       "Name: skills, dtype: object"
      ]
     },
     "execution_count": 66,
     "metadata": {},
     "output_type": "execute_result"
    }
   ],
   "source": [
    "jobs[\"skills\"].head()"
   ]
  },
  {
   "cell_type": "code",
   "execution_count": null,
   "id": "11b6affa",
   "metadata": {},
   "outputs": [
    {
     "name": "stdout",
     "output_type": "stream",
     "text": [
      "     job_id     score  num_of_applies  final_score\n",
      "141     245  0.695583              42     1.115583\n",
      "142     246  0.688878              37     1.058878\n",
      "197     301  0.635973              42     1.055973\n",
      "199     303  0.597894              45     1.047894\n",
      "19      121  0.510528              49     1.000528\n"
     ]
    },
    {
     "name": "stderr",
     "output_type": "stream",
     "text": [
      "d:\\desktop_backup\\ML_Projects\\Machine-Learning\\.venv\\Lib\\site-packages\\sklearn\\feature_extraction\\text.py:517: UserWarning: The parameter 'token_pattern' will not be used since 'tokenizer' is not None'\n",
      "  warnings.warn(\n"
     ]
    }
   ],
   "source": [
    "import pandas as pd\n",
    "from sklearn.feature_extraction.text import TfidfVectorizer\n",
    "from sklearn.metrics.pairwise import cosine_similarity\n",
    "\n",
    "# Vectorize job skills\n",
    "vectorizer = TfidfVectorizer(tokenizer=lambda x: x.split(\",\"))\n",
    "job_skill_matrix = vectorizer.fit_transform(jobs[\"skills\"])\n",
    "\n",
    "# Create a recommendation function\n",
    "def recommend_jobs(user_id, top_k=5):\n",
    "    # Get user skills\n",
    "    user_row = users[users[\"user_id\"] == user_id].iloc[0]\n",
    "    user_skills = user_row[\"skills\"] # e.g., \"Python,Java,SQL\"\n",
    "    \n",
    "    # Vectorize user skills\n",
    "    user_vec = vectorizer.transform([user_skills])\n",
    "    \n",
    "    # Compute similarity with all jobs\n",
    "    similarity_scores = cosine_similarity(user_vec, job_skill_matrix).flatten()\n",
    "    \n",
    "    # Put into dataframe\n",
    "    job_scores = pd.DataFrame({\n",
    "        \"job_id\": jobs[\"job_id\"],\n",
    "        \"score\": similarity_scores\n",
    "    })\n",
    "    \n",
    "    # Remove already applied jobs\n",
    "    applied = applies[applies[\"user_id\"] == user_id][\"job_id\"].tolist()\n",
    "    job_scores = job_scores[~job_scores[\"job_id\"].isin(applied)]\n",
    "    \n",
    "    # Sort by similarity (and optionally num_of_applies)\n",
    "    job_scores = job_scores.merge(jobs[[\"job_id\", \"num_of_applies\"]], on=\"job_id\")\n",
    "    job_scores[\"final_score\"] = job_scores[\"score\"] + 0.01 * job_scores[\"num_of_applies\"]\n",
    "    \n",
    "    # Top K recommendations\n",
    "    recommendations = job_scores.sort_values(\"final_score\", ascending=False).head(top_k)\n",
    "    return recommendations\n",
    "\n",
    "# Example: Recommend for user 1\n",
    "print(recommend_jobs(2, top_k=5))\n"
   ]
  },
  {
   "cell_type": "code",
   "execution_count": null,
   "id": "7b76a720",
   "metadata": {},
   "outputs": [],
   "source": []
  }
 ],
 "metadata": {
  "kernelspec": {
   "display_name": ".venv",
   "language": "python",
   "name": "python3"
  },
  "language_info": {
   "codemirror_mode": {
    "name": "ipython",
    "version": 3
   },
   "file_extension": ".py",
   "mimetype": "text/x-python",
   "name": "python",
   "nbconvert_exporter": "python",
   "pygments_lexer": "ipython3",
   "version": "3.12.3"
  }
 },
 "nbformat": 4,
 "nbformat_minor": 5
}
